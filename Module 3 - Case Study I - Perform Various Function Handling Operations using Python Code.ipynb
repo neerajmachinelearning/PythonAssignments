{
 "cells": [
  {
   "cell_type": "markdown",
   "metadata": {},
   "source": [
    "**1. A Robot moves in a Plane starting from the origin point (0,0). The robot can move toward UP, DOWN, LEFT, RIGHT.** \n",
    " - The trace of Robot movement is as given following:\n",
    "    - UP 5\n",
    "    - DOWN 3\n",
    "    - LEFT 3\n",
    "    - RIGHT 2\n",
    " - The numbers after directions are steps.  \n",
    " - Write a program to compute the distance current position after sequence of movements.Hint: Use math module."
   ]
  },
  {
   "cell_type": "code",
   "execution_count": 11,
   "metadata": {},
   "outputs": [
    {
     "name": "stdout",
     "output_type": "stream",
     "text": [
      "your starting coordinates are: (0, 0)\n",
      "\n",
      "Enter the direction or exit: UP\n",
      "Directions are UP, DOWN, LEFT or RIGHT and move is the number and enter exit once done\n",
      "\n",
      "Enter the move: 5\n",
      "Enter the direction or exit: DOWN\n",
      "Enter the move: 3\n",
      "Enter the direction or exit: LEFT\n",
      "Enter the move: 3\n",
      "Enter the direction or exit: RIGHT\n",
      "Enter the move: 2\n",
      "Enter the direction or exit: exit\n",
      "you have moved to the coordinates: (-1, 2)\n"
     ]
    }
   ],
   "source": [
    "def upmove(y, move):\n",
    "    return y+move\n",
    "\n",
    "def downmove(y, move):\n",
    "    return y-move\n",
    "\n",
    "def leftmove(x, move):\n",
    "    return x-move\n",
    "\n",
    "def rightmove(x, move):\n",
    "    return x+move\n",
    "\n",
    "def main():\n",
    "    x = 0\n",
    "    y = 0\n",
    "    print(f\"your starting coordinates are: ({x}, {y})\\n\")\n",
    "    direction = input(\"Enter the direction or exit: \")\n",
    "    print(\"Directions are UP, DOWN, LEFT or RIGHT and move is the number and enter exit once done\\n\")\n",
    "    while direction != 'exit':\n",
    "        move = int(input(\"Enter the move: \"))\n",
    "        if direction == 'UP':\n",
    "            y = upmove(y, move)\n",
    "        elif direction == 'DOWN':\n",
    "            y = downmove(y, move)\n",
    "        elif direction == 'LEFT':\n",
    "            x = leftmove(x, move)\n",
    "        elif direction == 'RIGHT':\n",
    "            x = rightmove(x, move)\n",
    "        else:\n",
    "            x = print(\"Please follow the instruction above and enter correct values\")\n",
    "        direction = input(\"Enter the direction or exit: \")\n",
    "    print(f\"you have moved to the coordinates: ({x}, {y})\")\n",
    "\n",
    "main()"
   ]
  },
  {
   "cell_type": "markdown",
   "metadata": {},
   "source": [
    "**2. Data of XYZ company is stored in sorted list. Write a program for searching specific data from that list.Hint: Use if/elif to deal with conditions.**"
   ]
  },
  {
   "cell_type": "code",
   "execution_count": 19,
   "metadata": {},
   "outputs": [
    {
     "name": "stdout",
     "output_type": "stream",
     "text": [
      "Enter the value: d\n",
      "value found\n"
     ]
    }
   ],
   "source": [
    "x = ['a', 'b', 'c', 'd']\n",
    "value = input(\"Enter the value: \")\n",
    "for i in x:\n",
    "    if i == value:\n",
    "        print(\"value found\")\n"
   ]
  },
  {
   "cell_type": "markdown",
   "metadata": {},
   "source": [
    "**3. Weather forecasting organization wants to show is it day or night. So, write a program for such organization to findwhether is it dark outside or not.Hint: Use time module.**"
   ]
  },
  {
   "cell_type": "code",
   "execution_count": 23,
   "metadata": {},
   "outputs": [
    {
     "name": "stdout",
     "output_type": "stream",
     "text": [
      "Its PM\n"
     ]
    }
   ],
   "source": [
    "# import time\n",
    "# current_time = time.localtime()\n",
    "# if current_time.tm_hour < 12:\n",
    "#     print(\"its AM\")\n",
    "# else: \n",
    "#     print(\"Its PM\")"
   ]
  },
  {
   "cell_type": "code",
   "execution_count": 25,
   "metadata": {},
   "outputs": [
    {
     "name": "stdout",
     "output_type": "stream",
     "text": [
      "Collecting suntime\n",
      "  Downloading https://files.pythonhosted.org/packages/93/95/a4eec0b36daeda6fa84b804da308211141d4a6ada13da228ecdf49600434/suntime-1.2.5-py3-none-any.whl\n",
      "Requirement already satisfied: python-dateutil in /Applications/anaconda3/lib/python3.7/site-packages (from suntime) (2.8.0)\n",
      "Requirement already satisfied: six>=1.5 in /Applications/anaconda3/lib/python3.7/site-packages (from python-dateutil->suntime) (1.12.0)\n",
      "Installing collected packages: suntime\n",
      "Successfully installed suntime-1.2.5\n"
     ]
    }
   ],
   "source": [
    "!pip install suntime"
   ]
  },
  {
   "cell_type": "code",
   "execution_count": 30,
   "metadata": {},
   "outputs": [
    {
     "name": "stdout",
     "output_type": "stream",
     "text": [
      "Sun will be going to rise at 2020-01-07 20:28:00-05:00 and set at 2020-01-08 06:30:00-05:00 \n",
      "Today at Atlanta the sun raised at 20:28 and get down at 06:30 UTC\n",
      "On 2014-10-03 the sun at atlanta raised at 20:18 and get down at 08:05.\n"
     ]
    }
   ],
   "source": [
    "import datetime\n",
    "from suntime import Sun, SunTimeException\n",
    "\n",
    "latitude = 33.7490\n",
    "longitude = 84.3880\n",
    "\n",
    "sun = Sun(latitude, longitude)\n",
    "\n",
    "# Get today's sunrise and sunset in UTC\n",
    "today_sr = sun.get_local_sunrise_time()\n",
    "today_ss = sun.get_local_sunset_time()\n",
    "print(f\"Sun will be going to rise at {today_sr} and set at {today_ss} \")\n",
    "print('Today at Atlanta the sun raised at {} and get down at {} UTC'.\n",
    "      format(today_sr.strftime('%H:%M'), today_ss.strftime('%H:%M')))\n",
    "\n",
    "\n",
    "# On a special date in your machine's local time zone\n",
    "abd = datetime.date(2014, 10, 3)\n",
    "abd_sr = sun.get_local_sunrise_time(abd)\n",
    "abd_ss = sun.get_local_sunset_time(abd)\n",
    "print('On {} the sun at atlanta raised at {} and get down at {}.'.\n",
    "      format(abd, abd_sr.strftime('%H:%M'), abd_ss.strftime('%H:%M')))"
   ]
  },
  {
   "cell_type": "markdown",
   "metadata": {},
   "source": [
    "**4. Write a program to find distancebetween two locations when their latitude and longitudes are given.Hint: Use math module.**"
   ]
  },
  {
   "cell_type": "code",
   "execution_count": 1,
   "metadata": {},
   "outputs": [
    {
     "name": "stdout",
     "output_type": "stream",
     "text": [
      "Result: 278.54558935106695\n",
      "Should be: 278.546 km\n"
     ]
    }
   ],
   "source": [
    "from math import sin, cos, sqrt, atan2, radians\n",
    "\n",
    "# approximate radius of earth in km\n",
    "R = 6373.0\n",
    "\n",
    "lat1 = radians(52.2296756)\n",
    "lon1 = radians(21.0122287)\n",
    "lat2 = radians(52.406374)\n",
    "lon2 = radians(16.9251681)\n",
    "\n",
    "dlon = lon2 - lon1\n",
    "dlat = lat2 - lat1\n",
    "\n",
    "a = sin(dlat / 2)**2 + cos(lat1) * cos(lat2) * sin(dlon / 2)**2\n",
    "c = 2 * atan2(sqrt(a), sqrt(1 - a))\n",
    "\n",
    "distance = R * c\n",
    "\n",
    "print(\"Result:\", distance)"
   ]
  },
  {
   "cell_type": "markdown",
   "metadata": {},
   "source": [
    "**5. Design a software for bank system. There should be options like cash withdraw, cash credit and change password. According to user input, the software should provide required output.**\n",
    "Hint: Use if else statements and functions."
   ]
  },
  {
   "cell_type": "code",
   "execution_count": 31,
   "metadata": {},
   "outputs": [
    {
     "name": "stdout",
     "output_type": "stream",
     "text": [
      "Please input your options: \n",
      "1.cash withdraw \n",
      "2.cash credit \n",
      "3.change password \n",
      "4.exit\n",
      "change password\n",
      "what is your childhood name: neeraj\n",
      "Your answer is wrong. Please enter correct answerabcde\n",
      "Please enter new password: neeraj\n",
      "Please confirm your new passwordneer\n",
      "Please make sure confirm password matches with the newpassword.\n",
      "Please enter new password: neeraj\n",
      "Please confirm your new passwordne\n",
      "Please make sure confirm password matches with the newpassword.\n",
      "Your answer is wrong please try again after 10 mins\n"
     ]
    }
   ],
   "source": [
    "def getacountbalance():\n",
    "    accountbalance\n",
    "    return \n",
    "    \n",
    "\n",
    "def cashwithdraw(cash, accountbalance):\n",
    "    newbalance=accountbalance\n",
    "    if cash <= accountbalance:\n",
    "        newbalance = accountbalance - cash\n",
    "        print(f\"your new account balance is {newbalance}\")\n",
    "    else:\n",
    "        print(\"You do not have sufficient balance\")\n",
    "    return newbalance\n",
    "\n",
    "def cashcredit(cash, accountbalance):\n",
    "    newbalance = accountbalance + cash\n",
    "    print(f\"your new account balance is {newbalance}\")\n",
    "    return newbalance\n",
    "\n",
    "def changePassword(secqueanswer):  \n",
    "    answer = input(\"what is your childhood name: \")\n",
    "    count = 1\n",
    "    while count <= 3:\n",
    "        if secqueanswer == answer:\n",
    "            newpassword = input(\"Please enter new password: \")\n",
    "            confirmnewpassword = input(\"Please confirm your new password\")\n",
    "            if newpassword == confirmnewpassword :\n",
    "                print(\"password changed\")\n",
    "                return newpassword\n",
    "            else:\n",
    "                print(\"Please make sure confirm password matches with the newpassword.\")\n",
    "        else:\n",
    "            answer = input(\"Your answer is wrong. Please enter correct answer\")\n",
    "        count +=1\n",
    "        if count == 4:\n",
    "            print(\"Your answer is wrong please try again after 10 mins\" )\n",
    "\n",
    "def main():\n",
    "    accountbalance = 1000\n",
    "    secqueanswer = 'abcde'\n",
    "    customerchoice = input(\"Please input your options: \\n1.cash withdraw \\n2.cash credit \\n3.change password \\n4.exit\\n\")\n",
    "    if customerchoice == \"cash withdraw\":\n",
    "        cash = int(input(\"Please enter the amount to withdraw: \"))\n",
    "        accountbalance = cashwithdraw(cash, accountbalance)\n",
    "    elif customerchoice == \"cash credit\":\n",
    "        credit = int(input(\"Please enter the amount you want to credit: \"))\n",
    "        accountbalance = cashcredit(credit, accountbalance)\n",
    "    elif customerchoice == \"change password\":\n",
    "        changePassword(secqueanswer)\n",
    "    elif customerchoice == \"exit\":\n",
    "        print(\"Thank you!\")\n",
    "    else:\n",
    "        customerchoice = input(\"You have entered the wrong option: Please enter again\")\n",
    "        \n",
    "\n",
    "main()  \n",
    "    "
   ]
  },
  {
   "cell_type": "markdown",
   "metadata": {},
   "source": [
    "**6. Write a program which will find all such numbers which are divisible by 7 but are not a multiple of 5, between 2000 and 3200 (both included). The numbers obtained should be printed in acomma-separated sequence on a single line**"
   ]
  },
  {
   "cell_type": "code",
   "execution_count": 33,
   "metadata": {},
   "outputs": [
    {
     "name": "stdout",
     "output_type": "stream",
     "text": [
      "[2002, 2009, 2016, 2023, 2037, 2044, 2051, 2058, 2072, 2079, 2086, 2093, 2107, 2114, 2121, 2128, 2142, 2149, 2156, 2163, 2177, 2184, 2191, 2198, 2212, 2219, 2226, 2233, 2247, 2254, 2261, 2268, 2282, 2289, 2296, 2303, 2317, 2324, 2331, 2338, 2352, 2359, 2366, 2373, 2387, 2394, 2401, 2408, 2422, 2429, 2436, 2443, 2457, 2464, 2471, 2478, 2492, 2499, 2506, 2513, 2527, 2534, 2541, 2548, 2562, 2569, 2576, 2583, 2597, 2604, 2611, 2618, 2632, 2639, 2646, 2653, 2667, 2674, 2681, 2688, 2702, 2709, 2716, 2723, 2737, 2744, 2751, 2758, 2772, 2779, 2786, 2793, 2807, 2814, 2821, 2828, 2842, 2849, 2856, 2863, 2877, 2884, 2891, 2898, 2912, 2919, 2926, 2933, 2947, 2954, 2961, 2968, 2982, 2989, 2996, 3003, 3017, 3024, 3031, 3038, 3052, 3059, 3066, 3073, 3087, 3094, 3101, 3108, 3122, 3129, 3136, 3143, 3157, 3164, 3171, 3178, 3192, 3199]\n"
     ]
    }
   ],
   "source": [
    "a = 2000\n",
    "b = 32000\n",
    "mylist = []\n",
    "for i in range(2000, 3201):\n",
    "    if i%7==0 and i%5!=0:\n",
    "        mylist.append(i)\n",
    "print(mylist)\n"
   ]
  },
  {
   "cell_type": "markdown",
   "metadata": {},
   "source": [
    "**7. Write a program which can compute the factorial of a given numbers. Use recursion to find it.** \n",
    "- Hint: Suppose the following input is supplied to the program:8Then, the output should be:40320"
   ]
  },
  {
   "cell_type": "code",
   "execution_count": 62,
   "metadata": {},
   "outputs": [],
   "source": [
    "def fact(number):\n",
    "    if number == 1:\n",
    "        return 1\n",
    "    else:\n",
    "        return number * fact(number-1)"
   ]
  },
  {
   "cell_type": "code",
   "execution_count": 65,
   "metadata": {},
   "outputs": [
    {
     "name": "stdout",
     "output_type": "stream",
     "text": [
      "Enter your number: 5\n",
      "Factorial for the number 5 is 120\n"
     ]
    }
   ],
   "source": [
    "number = int(input(\"Enter your number: \"))\n",
    "if number == 0:\n",
    "    print(\"Factorial of 0 is 1\")\n",
    "elif number < 0:\n",
    "    print(\"Factorial does not exist for the -ve number\")\n",
    "else:\n",
    "    result = fact(number)\n",
    "    print(f\"Factorial for the number {number} is {result}\")"
   ]
  },
  {
   "cell_type": "markdown",
   "metadata": {},
   "source": [
    "**8. Write a program that calculates and prints the value according to the given formula:Q = Square root of [(2 * C * D)/H]**\n",
    " - Following are the fixed values of C and H: C is 50. H is 30. D  is  the  variable  whose  values  should  be  input  to  your  program  in  a  comma-separated sequence. \n",
    " - Example:Let  us  assume  the  following  comma  separated  input  sequence  is  given  to  the program:100,150,180The output of the program should be:18,22,24"
   ]
  },
  {
   "cell_type": "code",
   "execution_count": 72,
   "metadata": {},
   "outputs": [
    {
     "name": "stdout",
     "output_type": "stream",
     "text": [
      "[18, 22, 24]\n"
     ]
    }
   ],
   "source": [
    "import math\n",
    "C = 50\n",
    "H = 30\n",
    "D = [100, 150, 180]\n",
    "output = []\n",
    "\n",
    "for i in D:\n",
    "    m = (2*C*i)\n",
    "    d = m / H\n",
    "    result = int(math.sqrt(d))\n",
    "    output.append(result)\n",
    "\n",
    "print(output)\n",
    "    "
   ]
  },
  {
   "cell_type": "markdown",
   "metadata": {},
   "source": [
    "**9. Write a program which takes 2 digits, X,Y as input and generates a 2-dimensional array. The element value in the i-th row and j-th column of the array should be i*j.**\n",
    " - Note: i=0,1.., X-1; j=0,1,¡-Y-1.\n",
    " - Example:Suppose the following inputs are given to the program:3,5Then, the output of the program should be:[[0, 0, 0, 0, 0], [0, 1, 2, 3, 4], [0, 2, 4, 6, 8]]"
   ]
  },
  {
   "cell_type": "code",
   "execution_count": 101,
   "metadata": {
    "scrolled": true
   },
   "outputs": [
    {
     "name": "stdout",
     "output_type": "stream",
     "text": [
      "Please enter X: 4\n",
      "Pleae enter Y: 5\n"
     ]
    },
    {
     "data": {
      "text/plain": [
       "[[0, 0, 0, 0, 0], [0, 1, 2, 3, 4], [0, 2, 4, 6, 8], [0, 3, 6, 9, 12]]"
      ]
     },
     "execution_count": 101,
     "metadata": {},
     "output_type": "execute_result"
    }
   ],
   "source": [
    "X = int(input(\"Please enter X: \"))\n",
    "Y = int(input(\"Pleae enter Y: \"))\n",
    "[[i * j for j in range(Y)] for i in range(X)]"
   ]
  },
  {
   "cell_type": "markdown",
   "metadata": {},
   "source": [
    "**10. Write a program that accepts a comma separated sequence of words as input and prints the words in a comma-separated sequence after sorting them alphabetically.** \n",
    " - Suppose the following input is supplied to the program:without,hello,bag,worldThen, the output should be:bag,hello,without,world"
   ]
  },
  {
   "cell_type": "code",
   "execution_count": 116,
   "metadata": {},
   "outputs": [
    {
     "name": "stdout",
     "output_type": "stream",
     "text": [
      "Enter comma separated names: without, hello, bag, world\n",
      "[' bag', ' hello', ' world', 'without']\n"
     ]
    }
   ],
   "source": [
    "inputs = input(\"Enter comma separated names: \")\n",
    "\n",
    "a = inputs.split (\",\")\n",
    "a.sort()\n",
    "print(a)"
   ]
  },
  {
   "cell_type": "markdown",
   "metadata": {},
   "source": [
    "**11. Write a program that accepts sequence of lines as input and prints the lines after making all characters in the sentence capitalized.** \n",
    " - Suppose the following inputis supplied to the program:Hello worldPractice makes perfectThen, the output should be:HELLO WORLDPRACTICE MAKES PERFECT"
   ]
  },
  {
   "cell_type": "code",
   "execution_count": 119,
   "metadata": {},
   "outputs": [
    {
     "name": "stdout",
     "output_type": "stream",
     "text": [
      "Please enter your sentenseHello world Practice makes perfect\n",
      "HELLO WORLD PRACTICE MAKES PERFECT\n"
     ]
    }
   ],
   "source": [
    "inputs = input(\"Please enter your sentense\")\n",
    "print(inputs.upper())"
   ]
  },
  {
   "cell_type": "markdown",
   "metadata": {},
   "source": [
    "**12. Write a program that accepts a sequence of whitespace separated words as input and   prints   the   words   after   removing   all   duplicate   words   and   sorting   them alphanumerically.** \n",
    " - Suppose the following input is supplied to the program:hello world and practice makes perfect and hello world againThen, the output should be:again and hello makes perfect practice world"
   ]
  },
  {
   "cell_type": "code",
   "execution_count": 137,
   "metadata": {},
   "outputs": [
    {
     "name": "stdout",
     "output_type": "stream",
     "text": [
      "Please enter your sentensehello world and practice makes perfect and hello world again\n",
      "again and hello makes perfect practice world\n"
     ]
    }
   ],
   "source": [
    "from collections import Counter\n",
    "\n",
    "inputs = input(\"Please enter your sentense\")\n",
    "\n",
    "inputs = inputs.split(\" \")\n",
    "\n",
    "inputs.sort()    \n",
    "UW = Counter(inputs) \n",
    "\n",
    "# UniqW = sorted(UniqW)\n",
    "\n",
    "s = \" \".join(UW.keys())\n",
    "\n",
    "print(s)"
   ]
  },
  {
   "cell_type": "markdown",
   "metadata": {},
   "source": [
    "**13. Write  a  program  which  accepts  a  sequence  of  comma  separated  4  digit  binary numbers  as  its  input  and  then  check  whether  they  are  divisible  by  5  or  not.  The numbers that are divisible by 5 are to be printed in a comma separated sequence.**\n",
    "\n",
    "- Example:0100,0011,1010,1001\n",
    "- Then the output should be:1010"
   ]
  },
  {
   "cell_type": "code",
   "execution_count": 151,
   "metadata": {},
   "outputs": [
    {
     "name": "stdout",
     "output_type": "stream",
     "text": [
      "Please enter comma separated numbers: 4563, 3456, 2315, 2460, 2510\n",
      "[2315, 2460, 2510]\n"
     ]
    }
   ],
   "source": [
    "inputs = input(\"Please enter comma separated numbers: \")\n",
    "a = inputs.split(\",\")\n",
    "new_list =[]\n",
    "test_list = [int(i) for i in a]\n",
    "for i in test_list:\n",
    "    if i % 5 == 0:\n",
    "        new_list.append(i)\n",
    "print(new_list)"
   ]
  },
  {
   "cell_type": "markdown",
   "metadata": {},
   "source": [
    "**14. Write  a  program  that  accepts  a  sentence  and  calculate  the  number  of  upper  case letters and lower case letters.**\n",
    " - Suppose the following input is supplied to the program:Hello world!Then, the output should be:UPPER CASE 1LOWER CASE 9"
   ]
  },
  {
   "cell_type": "code",
   "execution_count": 156,
   "metadata": {},
   "outputs": [
    {
     "name": "stdout",
     "output_type": "stream",
     "text": [
      "Please enter your sentense: Hello world!\n",
      "Hello world!\n",
      "UPPER CASE: 1\n",
      "LOWER CASE: 9\n"
     ]
    }
   ],
   "source": [
    "inputs = input(\"Please enter your sentense: \")\n",
    "print(inputs)\n",
    "uppercount = 0\n",
    "lowercount = 0\n",
    "for i in inputs:\n",
    "    if(i.isupper()):\n",
    "        uppercount += 1\n",
    "    elif(i.islower()):\n",
    "        lowercount += 1\n",
    "\n",
    "print(f\"UPPER CASE: {uppercount}\")\n",
    "print(f\"LOWER CASE: {lowercount}\")"
   ]
  },
  {
   "cell_type": "markdown",
   "metadata": {},
   "source": [
    "**15. Give example of fsum and sum function of math library.**"
   ]
  },
  {
   "cell_type": "code",
   "execution_count": 162,
   "metadata": {},
   "outputs": [
    {
     "name": "stdout",
     "output_type": "stream",
     "text": [
      "45.0\n",
      "7.99\n"
     ]
    }
   ],
   "source": [
    "\n",
    "#fsum() is inbuilt function in Python, used to find sum between some range or an iterable. \n",
    "# To use this function we need to import the math library.\n",
    "\n",
    "import math\n",
    "# find the sum between 1 to 10:\n",
    "print(math.fsum(range(10))) \n",
    "\n",
    "\n",
    "# Floating point list \n",
    "mylist = [2.5, 2.4, 3.09] \n",
    "print(math.fsum(mylist)) \n"
   ]
  },
  {
   "cell_type": "code",
   "execution_count": 164,
   "metadata": {},
   "outputs": [
    {
     "name": "stdout",
     "output_type": "stream",
     "text": [
      "4.5\n",
      "14.5\n"
     ]
    }
   ],
   "source": [
    "# The sum() function adds the items of an iterable and returns the sum.\n",
    "\n",
    "numbers = [2.5, 3, 4, -5]\n",
    "num_sum = sum(numbers)\n",
    "print(num_sum)\n",
    "\n",
    "num_sum1 = sum(numbers, 10)\n",
    "print(num_sum1)"
   ]
  }
 ],
 "metadata": {
  "kernelspec": {
   "display_name": "Python 3",
   "language": "python",
   "name": "python3"
  },
  "language_info": {
   "codemirror_mode": {
    "name": "ipython",
    "version": 3
   },
   "file_extension": ".py",
   "mimetype": "text/x-python",
   "name": "python",
   "nbconvert_exporter": "python",
   "pygments_lexer": "ipython3",
   "version": "3.7.4"
  }
 },
 "nbformat": 4,
 "nbformat_minor": 2
}
