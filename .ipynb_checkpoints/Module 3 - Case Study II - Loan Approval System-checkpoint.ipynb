{
 "cells": [
  {
   "cell_type": "code",
   "execution_count": 102,
   "metadata": {},
   "outputs": [
    {
     "name": "stdout",
     "output_type": "stream",
     "text": [
      "Please enter the profession or END: student\n",
      "Job student is available\n",
      "{'maxage': 28, 'minage': 19}\n",
      "----------------------------------------\n",
      "Search another job or END: housemaid\n",
      "Job housemaid is available\n",
      "{'maxage': 80, 'minage': 29}\n",
      "----------------------------------------\n",
      "Search another job or END: end\n",
      "Thanks for visiting\n"
     ]
    }
   ],
   "source": [
    "## Module 3 - Case Study II - Loan Approval System\n",
    "import os\n",
    "import pandas as pd\n",
    "\n",
    "def filepath():\n",
    "    home_directory = os.path.join(os.curdir, 'Module3_datasets_v1.0')\n",
    "    file_path = os.path.join(home_directory, 'bank-data.csv')\n",
    "    return file_path\n",
    "\n",
    "def readfile(file_path):\n",
    "    # read csv file and create a dataframe df\n",
    "    df = pd.read_csv(file_path)\n",
    "    # created array job with unique value in pandas\n",
    "    jobs = df['job'].unique()\n",
    "    # below code is to convert the dataframe in to list.\n",
    "    profession = list(jobs)\n",
    "    return jobs, profession\n",
    "\n",
    "# This function is to get the user input of profession and check it its in the list and also print\n",
    "# min and max age for the given profession\n",
    "def main(jobs, profession):\n",
    "    Dict = {}\n",
    "    inputjobs = input(\"Please enter the profession or END: \")\n",
    "    while inputjobs != 'end':\n",
    "        inputjobs = inputjobs.lower()\n",
    "        if inputjobs in  profession:\n",
    "            print(f\"Job {inputjobs} is available\")\n",
    "            age = df[df['job']==inputjobs]['age'].values\n",
    "            Dict = {'maxage': age.max(), 'minage': age.min()}\n",
    "            print(Dict)\n",
    "            print(\"----------------------------------------\")\n",
    "            inputjobs = input(\"Search another job or END: \")\n",
    "        else:\n",
    "            print(f\"Job {inputjobs} is no available\")\n",
    "            print(\"----------------------------------------\")\n",
    "            inputjobs = input(\"Search another job or END: \")\n",
    "    print(\"Thanks for visiting\")\n",
    "\n",
    "# main function\n",
    "if __name__ == '__main__':\n",
    "    file_path = filepath()\n",
    "    jobs, profession = readfile(file_path)\n",
    "    main(jobs, profession)"
   ]
  },
  {
   "cell_type": "markdown",
   "metadata": {},
   "source": [
    "## Please consider the code above. Below code were just my preparation to write final code. so ignore below codes. "
   ]
  },
  {
   "cell_type": "code",
   "execution_count": 5,
   "metadata": {},
   "outputs": [
    {
     "name": "stdout",
     "output_type": "stream",
     "text": [
      "./Module3_datasets_v1.0/bank-data.csv\n"
     ]
    }
   ],
   "source": [
    "import os\n",
    "home_directory = os.path.join(os.curdir, 'Module3_datasets_v1.0')\n",
    "file_path = os.path.join(home_directory, 'bank-data.csv')\n",
    "print(file_path)"
   ]
  },
  {
   "cell_type": "code",
   "execution_count": 85,
   "metadata": {},
   "outputs": [],
   "source": [
    "import pandas as pd"
   ]
  },
  {
   "cell_type": "code",
   "execution_count": 86,
   "metadata": {},
   "outputs": [
    {
     "data": {
      "text/html": [
       "<div>\n",
       "<style scoped>\n",
       "    .dataframe tbody tr th:only-of-type {\n",
       "        vertical-align: middle;\n",
       "    }\n",
       "\n",
       "    .dataframe tbody tr th {\n",
       "        vertical-align: top;\n",
       "    }\n",
       "\n",
       "    .dataframe thead th {\n",
       "        text-align: right;\n",
       "    }\n",
       "</style>\n",
       "<table border=\"1\" class=\"dataframe\">\n",
       "  <thead>\n",
       "    <tr style=\"text-align: right;\">\n",
       "      <th></th>\n",
       "      <th>age</th>\n",
       "      <th>job</th>\n",
       "      <th>marital</th>\n",
       "      <th>y</th>\n",
       "    </tr>\n",
       "  </thead>\n",
       "  <tbody>\n",
       "    <tr>\n",
       "      <td>0</td>\n",
       "      <td>20</td>\n",
       "      <td>student</td>\n",
       "      <td>single</td>\n",
       "      <td>yes</td>\n",
       "    </tr>\n",
       "    <tr>\n",
       "      <td>1</td>\n",
       "      <td>32</td>\n",
       "      <td>management</td>\n",
       "      <td>single</td>\n",
       "      <td>yes</td>\n",
       "    </tr>\n",
       "    <tr>\n",
       "      <td>2</td>\n",
       "      <td>49</td>\n",
       "      <td>technician</td>\n",
       "      <td>married</td>\n",
       "      <td>yes</td>\n",
       "    </tr>\n",
       "    <tr>\n",
       "      <td>3</td>\n",
       "      <td>32</td>\n",
       "      <td>blue-collar</td>\n",
       "      <td>married</td>\n",
       "      <td>yes</td>\n",
       "    </tr>\n",
       "    <tr>\n",
       "      <td>4</td>\n",
       "      <td>33</td>\n",
       "      <td>management</td>\n",
       "      <td>married</td>\n",
       "      <td>yes</td>\n",
       "    </tr>\n",
       "  </tbody>\n",
       "</table>\n",
       "</div>"
      ],
      "text/plain": [
       "   age          job  marital    y\n",
       "0   20      student   single  yes\n",
       "1   32   management   single  yes\n",
       "2   49   technician  married  yes\n",
       "3   32  blue-collar  married  yes\n",
       "4   33   management  married  yes"
      ]
     },
     "execution_count": 86,
     "metadata": {},
     "output_type": "execute_result"
    }
   ],
   "source": [
    "df = pd.read_csv(file_path)\n",
    "df.head()"
   ]
  },
  {
   "cell_type": "code",
   "execution_count": 87,
   "metadata": {},
   "outputs": [],
   "source": [
    "jobs = df['job'].unique()"
   ]
  },
  {
   "cell_type": "code",
   "execution_count": 79,
   "metadata": {},
   "outputs": [
    {
     "name": "stdout",
     "output_type": "stream",
     "text": [
      "['student', 'management', 'technician', 'blue-collar', 'admin.', 'services', 'self-employed', 'entrepreneur', 'housemaid']\n"
     ]
    }
   ],
   "source": [
    "profession = list(jobs)\n",
    "print(profession)"
   ]
  },
  {
   "cell_type": "code",
   "execution_count": 80,
   "metadata": {},
   "outputs": [
    {
     "data": {
      "text/plain": [
       "array(True)"
      ]
     },
     "execution_count": 80,
     "metadata": {},
     "output_type": "execute_result"
    }
   ],
   "source": [
    "np.isin('student', list(profession))"
   ]
  },
  {
   "cell_type": "code",
   "execution_count": 100,
   "metadata": {},
   "outputs": [
    {
     "name": "stdout",
     "output_type": "stream",
     "text": [
      "Please enter the profession or END: sdfa\n",
      "Job sdfa is no available\n",
      "----------------------------------------\n",
      "Search another job or END: Student\n",
      "Job student is available\n",
      "{'maxage': 28, 'minage': 19}\n",
      "----------------------------------------\n",
      "Search another job or END: India\n",
      "Job india is no available\n",
      "----------------------------------------\n",
      "Search another job or END: services\n",
      "Job services is available\n",
      "{'maxage': 60, 'minage': 24}\n",
      "----------------------------------------\n",
      "Search another job or END: technician\n",
      "Job technician is available\n",
      "{'maxage': 61, 'minage': 23}\n",
      "----------------------------------------\n",
      "Search another job or END: end\n",
      "Thanks for visiting\n"
     ]
    }
   ],
   "source": [
    "Dict = {}\n",
    "inputjobs = input(\"Please enter the profession or END: \")\n",
    "while inputjobs != 'end':\n",
    "    inputjobs = inputjobs.lower()\n",
    "    if inputjobs in  profession:\n",
    "        print(f\"Job {inputjobs} is available\")\n",
    "        age = df[df['job']==inputjobs]['age'].values\n",
    "        Dict = {'maxage': age.max(), 'minage': age.min()}\n",
    "        print(Dict)\n",
    "        print(\"----------------------------------------\")\n",
    "        inputjobs = input(\"Search another job or END: \")\n",
    "        \n",
    "    else:\n",
    "        print(f\"Job {inputjobs} is no available\")\n",
    "        print(\"----------------------------------------\")\n",
    "        inputjobs = input(\"Search another job or END: \")\n",
    "print(\"Thanks for visiting\")\n",
    "\n",
    "    "
   ]
  }
 ],
 "metadata": {
  "kernelspec": {
   "display_name": "Python 3",
   "language": "python",
   "name": "python3"
  },
  "language_info": {
   "codemirror_mode": {
    "name": "ipython",
    "version": 3
   },
   "file_extension": ".py",
   "mimetype": "text/x-python",
   "name": "python",
   "nbconvert_exporter": "python",
   "pygments_lexer": "ipython3",
   "version": "3.7.4"
  }
 },
 "nbformat": 4,
 "nbformat_minor": 2
}
