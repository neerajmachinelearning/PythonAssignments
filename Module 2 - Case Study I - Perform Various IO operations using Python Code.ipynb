{
 "cells": [
  {
   "cell_type": "markdown",
   "metadata": {},
   "source": [
    "### Case Study I - Submissions\n",
    "\n",
    "**1.What is the output of the following code?**\n",
    "  - nums =set([1,1,2,3,3,3,4,4])\n",
    "  - print(len(nums))\n",
    "  - Hint:Set consists unique element."
   ]
  },
  {
   "cell_type": "code",
   "execution_count": 3,
   "metadata": {},
   "outputs": [
    {
     "name": "stdout",
     "output_type": "stream",
     "text": [
      "4\n"
     ]
    }
   ],
   "source": [
    "nums =set([1,1,2,3,3,3,4,4])\n",
    "print(len(nums))"
   ]
  },
  {
   "cell_type": "markdown",
   "metadata": {},
   "source": [
    "**Answer:  4**"
   ]
  },
  {
   "cell_type": "markdown",
   "metadata": {},
   "source": [
    "**2. What will be the output?**\n",
    "  - d ={\"john\":40, \"peter\":45}\n",
    "  - print(list(d.keys()))"
   ]
  },
  {
   "cell_type": "code",
   "execution_count": 4,
   "metadata": {},
   "outputs": [
    {
     "name": "stdout",
     "output_type": "stream",
     "text": [
      "['john', 'peter']\n"
     ]
    }
   ],
   "source": [
    "d ={\"john\":40, \"peter\":45}\n",
    "print(list(d.keys()))"
   ]
  },
  {
   "cell_type": "markdown",
   "metadata": {},
   "source": [
    "**Answer:  ['john', 'peter']**"
   ]
  },
  {
   "cell_type": "markdown",
   "metadata": {},
   "source": [
    "**3. A website requires a user to input username and password to register.**\n",
    " - Write a program to check the validity of password given by user. \n",
    " - Following are the criteria for checking password:\n",
    "     1. At least 1 letter between [a-z]\n",
    "     2. At least 1 number between [0-9]\n",
    "     1. At least 1 letter between [A-Z]\n",
    "     3. At least 1 character from [$#@]\n",
    "     4. Minimum length of transaction password: 6\n",
    "     5. Maximum length of transaction password: 12"
   ]
  },
  {
   "cell_type": "code",
   "execution_count": 17,
   "metadata": {},
   "outputs": [
    {
     "name": "stdout",
     "output_type": "stream",
     "text": [
      "Please enter your password: Times@4sqr\n",
      "10\n",
      "Valid Password\n"
     ]
    }
   ],
   "source": [
    "import re\n",
    "password = input(\"Please enter your password: \")\n",
    "flag = 0\n",
    "print(len(password))\n",
    "\n",
    "while True:\n",
    "    if len(password) < 6:\n",
    "        flag = -1\n",
    "        break\n",
    "    elif len(password) > 12:\n",
    "        flag = -1\n",
    "        break\n",
    "    elif not re.search(\"[a-z]\", password):\n",
    "        flag = -1\n",
    "        break\n",
    "    elif not re.search(\"[A-Z]\", password):\n",
    "        flag = -1\n",
    "        break\n",
    "    elif not re.search(\"[0-9]\", password):\n",
    "        flag = -1\n",
    "        break\n",
    "    elif not re.search(\"[$#@]\", password):\n",
    "        flag = -1\n",
    "        break\n",
    "    else:\n",
    "        flag = 0\n",
    "        print(\"Valid Password\")\n",
    "        break\n",
    "\n",
    "if flag == -1:\n",
    "    print(\"Your password is invalid\")\n",
    "\n"
   ]
  },
  {
   "cell_type": "markdown",
   "metadata": {},
   "source": [
    "**4. Write a for loop that prints all elements of a list and their position in the list.** \n",
    " - a = [4,7,3,2,5,9] \n",
    " - Hint: Use Loop to iterate through list elements"
   ]
  },
  {
   "cell_type": "code",
   "execution_count": 22,
   "metadata": {
    "scrolled": true
   },
   "outputs": [
    {
     "name": "stdout",
     "output_type": "stream",
     "text": [
      "0 4\n",
      "1 7\n",
      "2 3\n",
      "3 2\n",
      "4 5\n",
      "5 9\n"
     ]
    }
   ],
   "source": [
    "a = [4,7,3,2,5,9]\n",
    "\n",
    "for item in a:\n",
    "    print(f\"{a.index(item)} {item}\")"
   ]
  },
  {
   "cell_type": "markdown",
   "metadata": {},
   "source": [
    "**5. Please   write   a   program   which   accepts  a   string   from   console   and   print   the characters that have even indexes.** \n",
    " - Example: If the following string is given as input to the program:H1e2l3l4o5w6o7r8l9d \n",
    " - Then, the output of the program should be:Helloworld"
   ]
  },
  {
   "cell_type": "code",
   "execution_count": 30,
   "metadata": {},
   "outputs": [
    {
     "name": "stdout",
     "output_type": "stream",
     "text": [
      "Helloworld"
     ]
    }
   ],
   "source": [
    "b = \"H1e2l3l4o5w6o7r8l9d\"\n",
    "for item in b:\n",
    "    if re.search(\"[A-Z]\", item) or re.search(\"[a-z]\", item):\n",
    "        print(item, end=\"\")"
   ]
  },
  {
   "cell_type": "markdown",
   "metadata": {},
   "source": [
    "**6. Please write a program which accepts a string from console and print it in reverse order.** \n",
    " - Example: If the following string is given as input to the program: rise to vote sir Then, \n",
    " - the output of the program should be:ris etov ot esir"
   ]
  },
  {
   "cell_type": "code",
   "execution_count": null,
   "metadata": {},
   "outputs": [],
   "source": [
    "b = \"rise to vote sir\"\n",
    "for i in b:\n",
    "    print\n"
   ]
  },
  {
   "cell_type": "markdown",
   "metadata": {},
   "source": [
    "**7. Please write a program which count and print the numbers of each character in a string input by console.**\n",
    " - Example: If the following string is given as input to the program:abcdefgabc\n",
    " - Then, the output of the program should be:\n",
    " **a,2\n",
    " c,2\n",
    " b,2\n",
    " e,1\n",
    " d,1\n",
    " g,1\n",
    " f,1**"
   ]
  },
  {
   "cell_type": "code",
   "execution_count": 94,
   "metadata": {},
   "outputs": [
    {
     "name": "stdout",
     "output_type": "stream",
     "text": [
      "a, 2\n",
      "b, 2\n",
      "c, 2\n",
      "d, 1\n",
      "e, 1\n",
      "f, 1\n",
      "g, 1\n"
     ]
    }
   ],
   "source": [
    "p = \"abcdefgabc\"\n",
    "# for i in set(p):\n",
    "#     print(f\"{i},{p.count(i)}\")\n",
    "    \n",
    "# from collections import Counter\n",
    "# print(Counter(p))\n",
    "         \n",
    "str2 = [] \n",
    "\n",
    "# loop till string values present in list str \n",
    "for i in p:            \n",
    "    if i not in str2: \n",
    "        str2.append(i)\n",
    "for i in str2:\n",
    "    print(f\"{i}, {p.count(i)}\")\n",
    "\n",
    "   \n",
    "\n"
   ]
  },
  {
   "cell_type": "markdown",
   "metadata": {},
   "source": [
    "**8. With   two   given   lists   [1,3,6,78,35,55]   and   [12,24,35,24,88,120,155]**   \n",
    "  - write   a program to make a list whose elements are intersection of the above given lists."
   ]
  },
  {
   "cell_type": "code",
   "execution_count": 50,
   "metadata": {},
   "outputs": [
    {
     "name": "stdout",
     "output_type": "stream",
     "text": [
      "[35]\n"
     ]
    }
   ],
   "source": [
    "a = [1,3,6,78,35]\n",
    "b = [12,24,35,24,88,120,155]\n",
    "c = []\n",
    "\n",
    "for i in a:\n",
    "    for j in b:\n",
    "        if i == j:\n",
    "            c.append(i)\n",
    "\n",
    "print(c)"
   ]
  },
  {
   "cell_type": "markdown",
   "metadata": {},
   "source": [
    "**9. With a given list [12,24,35,24,88,120,155,88,120,155]** \n",
    " - Write a program to print this list after removing all duplicate values with original order reserved."
   ]
  },
  {
   "cell_type": "code",
   "execution_count": 53,
   "metadata": {},
   "outputs": [
    {
     "name": "stdout",
     "output_type": "stream",
     "text": [
      "[12, 24, 35, 88, 120, 155]\n"
     ]
    }
   ],
   "source": [
    "a = [12,24,35,24,88,120,155,88,120,155]\n",
    "c = []\n",
    "for i in a: \n",
    "    if i not in c: \n",
    "        c.append(i)        \n",
    "print(c)\n",
    "            "
   ]
  },
  {
   "cell_type": "markdown",
   "metadata": {},
   "source": [
    "**10. By using list comprehension, please write a program to print the list after removing the value 24 in [12,24,35,24,88,120,155]**"
   ]
  },
  {
   "cell_type": "code",
   "execution_count": 59,
   "metadata": {},
   "outputs": [
    {
     "name": "stdout",
     "output_type": "stream",
     "text": [
      "[12, 35, 88, 120, 155]\n"
     ]
    }
   ],
   "source": [
    "a = [12,24,35,24,88,120,155]\n",
    "new_list = [i for i in a if i != 24]\n",
    "print(new_list)"
   ]
  },
  {
   "cell_type": "markdown",
   "metadata": {},
   "source": [
    "**11. By using list comprehension, please write a program to print the list after removing the 0th,4th,5th numbers in [12,24,35,70,88,120,155].**"
   ]
  },
  {
   "cell_type": "code",
   "execution_count": 83,
   "metadata": {},
   "outputs": [
    {
     "name": "stdout",
     "output_type": "stream",
     "text": [
      "0\n",
      "[24, 35, 24, 155]\n"
     ]
    }
   ],
   "source": [
    "a = [12,24,35,24,88,120,155]\n",
    "print(a.index(12))\n",
    "new_list = [i for i in a if a.index(i) not in [0, 4, 5]]\n",
    "print(new_list)"
   ]
  },
  {
   "cell_type": "markdown",
   "metadata": {},
   "source": [
    "**12. By using list comprehension, please write a program to print the list after removing delete numbers which are divisible by 5 and 7 in [12,24,35,70,88,120,155].**\n"
   ]
  },
  {
   "cell_type": "code",
   "execution_count": 62,
   "metadata": {},
   "outputs": [
    {
     "name": "stdout",
     "output_type": "stream",
     "text": [
      "[12, 24, 24, 88]\n"
     ]
    }
   ],
   "source": [
    "a = [12,24,35,24,88,120,155]\n",
    "new_list = [i for i in a if i % 5 != 0 and i % 7 != 0]\n",
    "print(new_list)"
   ]
  },
  {
   "cell_type": "markdown",
   "metadata": {},
   "source": [
    "**13. Please  write  a  program  to  randomly  generate  a  list  with  5  numbers,  which  are divisible by 5 and 7 , between 1 and 1000 inclusive.**\n"
   ]
  },
  {
   "cell_type": "code",
   "execution_count": 69,
   "metadata": {},
   "outputs": [
    {
     "name": "stdout",
     "output_type": "stream",
     "text": [
      "[700, 455, 420, 700, 105]\n"
     ]
    }
   ],
   "source": [
    "import random\n",
    "c = []\n",
    "while len(c) != 5:\n",
    "    number = random.randint(1, 1001)\n",
    "    if number % 5 == 0 and number % 7 == 0:\n",
    "        c.append(number);\n",
    "print(c)"
   ]
  },
  {
   "cell_type": "markdown",
   "metadata": {},
   "source": [
    "**14. Write  a  program  to  compute  1/2+2/3+3/4+...+n/n+1  with  a  given  n  input  by console (n>0).**\n",
    " - Example:If the following n is given as input to the program:5\n",
    " - Then, the output of the program should be:3.55"
   ]
  },
  {
   "cell_type": "code",
   "execution_count": 77,
   "metadata": {},
   "outputs": [
    {
     "name": "stdout",
     "output_type": "stream",
     "text": [
      "Enter the magic number: 5\n",
      "3.55\n"
     ]
    }
   ],
   "source": [
    "import math\n",
    "n = int(input(\"Enter the magic number: \"))\n",
    "total = 0\n",
    "for i in range(1, n+1):\n",
    "    total += i/(i+1)\n",
    "print(round(total,2))\n"
   ]
  }
 ],
 "metadata": {
  "kernelspec": {
   "display_name": "Python 3",
   "language": "python",
   "name": "python3"
  },
  "language_info": {
   "codemirror_mode": {
    "name": "ipython",
    "version": 3
   },
   "file_extension": ".py",
   "mimetype": "text/x-python",
   "name": "python",
   "nbconvert_exporter": "python",
   "pygments_lexer": "ipython3",
   "version": "3.7.4"
  }
 },
 "nbformat": 4,
 "nbformat_minor": 2
}
