{
 "cells": [
  {
   "cell_type": "markdown",
   "metadata": {},
   "source": [
    "**Case Sudy II: Approach**\n",
    "- 1. Read the input from command line –Reference ID\n",
    "- 2. Check for validity –it should be 12 digits and allows on number and alphabet\n",
    "- 3. Encrypt the Reference ID and print it for reference\n",
    "\n",
    "**Enhancements for codeYou can try these enhancements in code**\n",
    "- 1.Allow some special characters in ReferenceID\n",
    "- 2.Give the option for decryption to user \n",
    "\n",
    "Below program handles all 5 requirments mentioned above. "
   ]
  },
  {
   "cell_type": "code",
   "execution_count": 20,
   "metadata": {},
   "outputs": [
    {
     "name": "stdout",
     "output_type": "stream",
     "text": [
      "Please enter the Reference ID: 12345678@abc\n",
      "You have entered correct reference id \n",
      "\n",
      "\n",
      "Your Encripted reference id is: b'gAAAAABeETJMlM04E3s1risgp0tSfD1whLf-3cnt03DKILuKZqrQIGzOjA0O9ggZNGV-4aQYT0RSldJccYbke1tlrdrAN1-rWQ==' \n",
      "\n",
      "\n",
      "Do you want to decrypt your reference id: y or n?y\n",
      "your reference id is: 12345678@abc\n"
     ]
    }
   ],
   "source": [
    "from cryptography.fernet import Fernet\n",
    "import re\n",
    "refer_id = input(\"Please enter the Reference ID: \")\n",
    "flag = 0\n",
    "while True:\n",
    "    if len(refer_id) != 12:\n",
    "        flag = -1\n",
    "        break\n",
    "    elif not re.search(\"[a-z]\", refer_id):\n",
    "        flag = -1\n",
    "        break\n",
    "    elif not re.search(\"[1-9]\", refer_id):\n",
    "        flag = -1\n",
    "        break\n",
    "    elif not re.search(\"[-@]\", refer_id):\n",
    "        flag = -1\n",
    "        break\n",
    "    else:\n",
    "        flag = 0\n",
    "        print(\"You have entered correct reference id \\n\\n\")\n",
    "        my_str_as_bytes = str.encode(refer_id)\n",
    "        key = Fernet.generate_key() #this is your \"password\"\n",
    "        cipher_suite = Fernet(key)\n",
    "        encoded_text = cipher_suite.encrypt(my_str_as_bytes)\n",
    "        print(f\"Your Encripted reference id is: {encoded_text} \\n\\n\")\n",
    "        choice = input(\"Do you want to decrypt your reference id: y or n?\")\n",
    "        if choice == 'y':\n",
    "              decoded_text = cipher_suite.decrypt(encoded_text)\n",
    "              my_decoded_str = decoded_text.decode()\n",
    "              print(f\"your reference id is: {my_decoded_str}\")   \n",
    "        else:\n",
    "            print(\"Have a wonderful day\")\n",
    "        break\n",
    "if flag == -1:\n",
    "    print(\"Please enter the correct reference id\")\n",
    "        "
   ]
  }
 ],
 "metadata": {
  "kernelspec": {
   "display_name": "Python 3",
   "language": "python",
   "name": "python3"
  },
  "language_info": {
   "codemirror_mode": {
    "name": "ipython",
    "version": 3
   },
   "file_extension": ".py",
   "mimetype": "text/x-python",
   "name": "python",
   "nbconvert_exporter": "python",
   "pygments_lexer": "ipython3",
   "version": "3.7.4"
  }
 },
 "nbformat": 4,
 "nbformat_minor": 2
}
