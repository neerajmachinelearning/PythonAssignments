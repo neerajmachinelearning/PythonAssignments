{
 "cells": [
  {
   "cell_type": "markdown",
   "metadata": {},
   "source": [
    "### Case Study III\n",
    " - 1.Read FairDealCustomerData.csv\n",
    " - 2.Name field contains full name –use regular expression to separate title, first name, last name\n",
    " - 3.Store the data in Customer Class\n",
    " - 4.Create Custom Exception –CustomerNotAllowedException\n",
    " - 5.Pass a customer to function \"createOrder\" and throw CustomerNotAllowedException in case of blacklisted value is 1"
   ]
  },
  {
   "cell_type": "code",
   "execution_count": 383,
   "metadata": {},
   "outputs": [],
   "source": [
    "# Customer class given by edureka.\n",
    "class Customer:\n",
    "    title = \"\"\n",
    "    fname = \"\"\n",
    "    lname = \"\"\n",
    "    blacklisted = 0;\n",
    "\n",
    "    def __init__(self):\n",
    "        self.title = \"\"\n",
    "\n",
    "    def __str__(self):\n",
    "        return \"Title:\" + self.title + \" First Name:\" + self.fname + \" Last Name:\" + self.lname + \" Blacklisted:\" + self.blacklisted\n",
    "\n",
    "    def setIsblacklisted(self,blacklisted):\n",
    "        self.blacklisted = blacklisted\n",
    "\n",
    "    def getisblacklisted(self):\n",
    "        return self.blacklisted\n",
    "\n",
    "    def setTitle(self,title):\n",
    "        self.title = title\n",
    "\n",
    "    def getTitle(self):\n",
    "        return self.title\n",
    "\n",
    "    def setFname(self,fname):\n",
    "        self.fname = fname\n",
    "\n",
    "    def getFname(self):\n",
    "        return self.fname\n",
    "\n",
    "    def setLname(self,lname):\n",
    "        self.lname = lname\n",
    "\n",
    "    def getLname(self):\n",
    "        return self.lname\n"
   ]
  },
  {
   "cell_type": "code",
   "execution_count": 385,
   "metadata": {},
   "outputs": [
    {
     "name": "stdout",
     "output_type": "stream",
     "text": [
      "Enter the customer title: Miss\n",
      "Enter the first name: Laina\n",
      "Enter the last name: Heikkinen\n",
      "\n",
      "Customer is allowed to take loan\n",
      "\n"
     ]
    }
   ],
   "source": [
    "# Program Written By Neeraj Sharma\n",
    "import os\n",
    "import pandas as pd\n",
    "import numpy as np\n",
    "\n",
    "# This function is to read excel sheet and convert the data to dataframes.\n",
    "def readfile():\n",
    "    file_directory = os.path.join(os.curdir, 'Module3_datasets_v1.0')\n",
    "    file_path = os.path.join(home_directory, 'FairDealCustomerData.csv')\n",
    "    df = pd.read_csv(file_path, names=[\"Last Name\",\"First Name\",\"Blacklisted\"])\n",
    "    return df\n",
    "\n",
    "# This function is to split title and first name and create separate dataframe with rearranged column.\n",
    "def reorganizedata(df):\n",
    "    last_name = df[\"Last Name\"]\n",
    "    last_name = list(last_name)\n",
    "    first_name = df[\"First Name\"]\n",
    "    first_name = list(first_name)\n",
    "    title_col = []\n",
    "    first_col = []\n",
    "\n",
    "    for i in range(0, len(first_name)):\n",
    "        title, first = first_name[i].split(\".\")\n",
    "        title_col.append(title)\n",
    "        first_col.append(first)\n",
    "    customerdataframe = pd.DataFrame()\n",
    "    customerdataframe[\"LastName\"] = last_name\n",
    "    customerdataframe[\"Title\"] = title_col\n",
    "    customerdataframe[\"FirstName\"] = first_col\n",
    "    customerdataframe[\"BlackListed\"] = df[\"Blacklisted\"]\n",
    "    customerdataframe = customerdataframe[['Title', 'FirstName', 'LastName', 'BlackListed']]\n",
    "    return customerdataframe\n",
    "\n",
    "# This function is to transfer data from data frame customerdataframe to Customer class. \n",
    "# It creates list of the Customer class object containing object for each customer. \n",
    "def datatransfertoCustomerclass(customerdataframe):\n",
    "    customer_obj_list = []\n",
    "    for customer_obj in range(len(customerdataframe['LastName'])):\n",
    "        customer_obj = Customer()\n",
    "        customer_obj_list.append(customer_obj)\n",
    "\n",
    "    for i in range(len(customer_obj_list)):\n",
    "        customer_obj_list[i].setTitle(customerdataframe['Title'][i])\n",
    "        customer_obj_list[i].setFname(customerdataframe['FirstName'][i])\n",
    "        customer_obj_list[i].setLname(customerdataframe['LastName'][i])\n",
    "        customer_obj_list[i].setIsblacklisted(customerdataframe['BlackListed'][i])\n",
    "    return customer_obj_list\n",
    "\n",
    "\n",
    "# This function is to find out if customer is elligible or not\n",
    "def createOrder(customer_obj_list, title, firstName, lastName):\n",
    "    blacklisted1 = 0\n",
    "    try:\n",
    "        while True:\n",
    "            for i in range(len(customer_obj_list)):\n",
    "                if customer_obj_list[i].getTitle().strip() == title and customer_obj_list[i].getFname().strip()== firstName and customer_obj_list[i].getLname().strip() == lastName:\n",
    "                    blacklisted1 = customer_obj_list[i].getisblacklisted()\n",
    "                    if blacklisted1 == 1:\n",
    "                        raise CustomerNotAllowedException\n",
    "                        break\n",
    "                    elif blacklisted1 == 0: \n",
    "                        raise customerAllowed\n",
    "                        break\n",
    "            raise CutomerNotFound\n",
    "            break\n",
    "            \n",
    "            \n",
    "    except CustomerNotAllowedException:\n",
    "            print(\"Cutomer is not allowed to create Order\")\n",
    "            print()\n",
    "        \n",
    "    except CutomerNotFound:\n",
    "            print(\"Customer is not found\")\n",
    "            print()\n",
    "            \n",
    "    except customerAllowed:\n",
    "            print(\"Customer is allowed to create Order\")\n",
    "            print()\n",
    "\n",
    "if __name__ == '__main__':\n",
    "    title = input(\"Enter the customer title: \")\n",
    "    firstName = input(\"Enter the first name: \")\n",
    "    lastName = input(\"Enter the last name: \")\n",
    "    print()\n",
    "    createOrder(customer_obj_list,title, firstName, lastName)"
   ]
  },
  {
   "cell_type": "markdown",
   "metadata": {},
   "source": [
    "### Below code I am still working on enhancement part"
   ]
  },
  {
   "cell_type": "code",
   "execution_count": 387,
   "metadata": {},
   "outputs": [
    {
     "ename": "SyntaxError",
     "evalue": "unexpected EOF while parsing (<ipython-input-387-6af08d568447>, line 19)",
     "output_type": "error",
     "traceback": [
      "\u001b[0;36m  File \u001b[0;32m\"<ipython-input-387-6af08d568447>\"\u001b[0;36m, line \u001b[0;32m19\u001b[0m\n\u001b[0;31m    break\u001b[0m\n\u001b[0m         ^\u001b[0m\n\u001b[0;31mSyntaxError\u001b[0m\u001b[0;31m:\u001b[0m unexpected EOF while parsing\n"
     ]
    }
   ],
   "source": [
    "# Enhancement to the code\n",
    "\n",
    "# This function is to find out if customer is elligible or not\n",
    "def createOrder(customer_obj_list, title, firstName, lastName, productname, productcode):\n",
    "    blacklisted1 = 0\n",
    "    order = Order(productname,productcode)\n",
    "    try:\n",
    "        while True:\n",
    "            for i in range(len(customer_obj_list)):\n",
    "                if customer_obj_list[i].getTitle().strip() == title and customer_obj_list[i].getFname().strip()== firstName and customer_obj_list[i].getLname().strip() == lastName:\n",
    "                    blacklisted1 = customer_obj_list[i].getisblacklisted()\n",
    "                    if blacklisted1 == 1:\n",
    "                        raise CustomerNotAllowedException\n",
    "                        return order\n",
    "                    elif blacklisted1 == 0: \n",
    "                        raise customerAllowed\n",
    "                        break\n",
    "            raise CutomerNotFound\n",
    "            break"
   ]
  },
  {
   "cell_type": "markdown",
   "metadata": {},
   "source": [
    "### Please do not check below code. It was just a homework for creating final script. Above program is the final program. "
   ]
  },
  {
   "cell_type": "code",
   "execution_count": null,
   "metadata": {},
   "outputs": [],
   "source": [
    "class Order:\n",
    "    productname = \"\"\n",
    "    productcode = \"\"\n",
    "    \n",
    "    def __init__(self, productname, productcode):\n",
    "        self.title = 'self'\n",
    "        self.productname = productname\n",
    "        self.productcode = productcode\n",
    "    \n",
    "    def orderinfo(productname, productcode):\n",
    "        print(\"Order information is available\")\n",
    "        \n",
    "    "
   ]
  },
  {
   "cell_type": "code",
   "execution_count": 90,
   "metadata": {},
   "outputs": [],
   "source": [
    "import os\n",
    "import pandas as pd\n",
    "import numpy as np"
   ]
  },
  {
   "cell_type": "code",
   "execution_count": 2,
   "metadata": {},
   "outputs": [],
   "source": [
    "home_directory = os.path.join(os.curdir, 'Module3_datasets_v1.0')\n",
    "file_path = os.path.join(home_directory, 'FairDealCustomerData.csv')"
   ]
  },
  {
   "cell_type": "code",
   "execution_count": 3,
   "metadata": {},
   "outputs": [],
   "source": [
    "df = pd.read_csv(file_path, names=[\"Last Name\",\"First Name\",\"Blacklisted\"])"
   ]
  },
  {
   "cell_type": "code",
   "execution_count": 39,
   "metadata": {},
   "outputs": [
    {
     "data": {
      "text/html": [
       "<div>\n",
       "<style scoped>\n",
       "    .dataframe tbody tr th:only-of-type {\n",
       "        vertical-align: middle;\n",
       "    }\n",
       "\n",
       "    .dataframe tbody tr th {\n",
       "        vertical-align: top;\n",
       "    }\n",
       "\n",
       "    .dataframe thead th {\n",
       "        text-align: right;\n",
       "    }\n",
       "</style>\n",
       "<table border=\"1\" class=\"dataframe\">\n",
       "  <thead>\n",
       "    <tr style=\"text-align: right;\">\n",
       "      <th></th>\n",
       "      <th>Last Name</th>\n",
       "      <th>First Name</th>\n",
       "      <th>Blacklisted</th>\n",
       "    </tr>\n",
       "  </thead>\n",
       "  <tbody>\n",
       "    <tr>\n",
       "      <td>0</td>\n",
       "      <td>Braund</td>\n",
       "      <td>Mr. Owen Harris</td>\n",
       "      <td>1</td>\n",
       "    </tr>\n",
       "    <tr>\n",
       "      <td>1</td>\n",
       "      <td>Heikkinen</td>\n",
       "      <td>Miss. Laina</td>\n",
       "      <td>0</td>\n",
       "    </tr>\n",
       "    <tr>\n",
       "      <td>2</td>\n",
       "      <td>Allen</td>\n",
       "      <td>Mr. William Henry</td>\n",
       "      <td>0</td>\n",
       "    </tr>\n",
       "    <tr>\n",
       "      <td>3</td>\n",
       "      <td>Moran</td>\n",
       "      <td>Mr. James</td>\n",
       "      <td>0</td>\n",
       "    </tr>\n",
       "    <tr>\n",
       "      <td>4</td>\n",
       "      <td>McCarthy</td>\n",
       "      <td>Mr. Timothy J</td>\n",
       "      <td>0</td>\n",
       "    </tr>\n",
       "  </tbody>\n",
       "</table>\n",
       "</div>"
      ],
      "text/plain": [
       "    Last Name           First Name  Blacklisted\n",
       "0      Braund     Mr. Owen Harris             1\n",
       "1   Heikkinen         Miss. Laina             0\n",
       "2       Allen   Mr. William Henry             0\n",
       "3       Moran           Mr. James             0\n",
       "4    McCarthy       Mr. Timothy J             0"
      ]
     },
     "execution_count": 39,
     "metadata": {},
     "output_type": "execute_result"
    }
   ],
   "source": [
    "df.head()"
   ]
  },
  {
   "cell_type": "code",
   "execution_count": 40,
   "metadata": {},
   "outputs": [],
   "source": [
    "last_name = df[\"Last Name\"]\n",
    "last_name = list(last_name)"
   ]
  },
  {
   "cell_type": "code",
   "execution_count": 18,
   "metadata": {},
   "outputs": [
    {
     "data": {
      "text/plain": [
       "list"
      ]
     },
     "execution_count": 18,
     "metadata": {},
     "output_type": "execute_result"
    }
   ],
   "source": [
    "type(last_name)"
   ]
  },
  {
   "cell_type": "code",
   "execution_count": 41,
   "metadata": {},
   "outputs": [],
   "source": [
    "first_name = df[\"First Name\"]\n",
    "first_name = list(first_name)"
   ]
  },
  {
   "cell_type": "code",
   "execution_count": 42,
   "metadata": {},
   "outputs": [],
   "source": [
    "title_col = []\n",
    "first_col = []\n",
    "\n",
    "for i in range(0, len(first_name)):\n",
    "    title, first = first_name[i].split(\".\")\n",
    "    title_col.append(title)\n",
    "    first_col.append(first)\n"
   ]
  },
  {
   "cell_type": "code",
   "execution_count": 9,
   "metadata": {},
   "outputs": [
    {
     "name": "stdout",
     "output_type": "stream",
     "text": [
      " Mr\n"
     ]
    }
   ],
   "source": [
    "print(title_col[0])"
   ]
  },
  {
   "cell_type": "code",
   "execution_count": null,
   "metadata": {},
   "outputs": [],
   "source": [
    "for i in "
   ]
  },
  {
   "cell_type": "code",
   "execution_count": 116,
   "metadata": {},
   "outputs": [],
   "source": [
    "class Customer:\n",
    "    title = \"\"\n",
    "    fname = \"\"\n",
    "    lname = \"\"\n",
    "    blacklisted = 0;\n",
    "\n",
    "    def __init__(self):\n",
    "        self.title = \"\"\n",
    "\n",
    "    def __str__(self):\n",
    "        return \"Title:\" + self.title + \" First Name:\" + self.fname + \" Last Name:\" + self.lname + \" Blacklisted:\" + self.blacklisted\n",
    "\n",
    "    def setIsblacklisted(self,blacklisted):\n",
    "        self.blacklisted = blacklisted\n",
    "\n",
    "    def getisblacklisted(self):\n",
    "        return self.blacklisted\n",
    "\n",
    "    def setTitle(self,title):\n",
    "        self.title = title\n",
    "\n",
    "    def getTitle(self):\n",
    "        return self.title\n",
    "\n",
    "    def setFname(self,fname):\n",
    "        self.fname = fname\n",
    "\n",
    "    def getFname(self):\n",
    "        return self.fname\n",
    "\n",
    "    def setLname(self,lname):\n",
    "        self.lname = lname\n",
    "\n",
    "    def getLname(self):\n",
    "        return self.lname\n",
    "\n",
    "\n",
    "\n",
    "\n",
    "# customer2 = Customer()\n",
    "# customer2.setTitle(\"Mrs.\")\n",
    "# customer2.setFname(\"George\")\n",
    "# customer2.setLname(\"Bush\")\n",
    "#\n",
    "# print(\"First Customer Title %s\" , customer1.getTitle())\n",
    "# print(\"Second Customer Title %s\" , customer2.getTitle())\n",
    "# print(\"First Customer Title %s\" , customer1.getTitle())\n"
   ]
  },
  {
   "cell_type": "code",
   "execution_count": 43,
   "metadata": {},
   "outputs": [],
   "source": [
    "customer1 = Customer()"
   ]
  },
  {
   "cell_type": "code",
   "execution_count": 105,
   "metadata": {},
   "outputs": [
    {
     "ename": "TypeError",
     "evalue": "'int' object is not callable",
     "output_type": "error",
     "traceback": [
      "\u001b[0;31m---------------------------------------------------------------------------\u001b[0m",
      "\u001b[0;31mTypeError\u001b[0m                                 Traceback (most recent call last)",
      "\u001b[0;32m<ipython-input-105-66c80511d16e>\u001b[0m in \u001b[0;36m<module>\u001b[0;34m\u001b[0m\n\u001b[1;32m     11\u001b[0m \u001b[0;31m# customer2.setLname(\"Bush\")\u001b[0m\u001b[0;34m\u001b[0m\u001b[0;34m\u001b[0m\u001b[0;34m\u001b[0m\u001b[0m\n\u001b[1;32m     12\u001b[0m \u001b[0;31m#\u001b[0m\u001b[0;34m\u001b[0m\u001b[0;34m\u001b[0m\u001b[0;34m\u001b[0m\u001b[0m\n\u001b[0;32m---> 13\u001b[0;31m \u001b[0mprint\u001b[0m\u001b[0;34m(\u001b[0m\u001b[0;34m\"First Customer Title %s\"\u001b[0m \u001b[0;34m,\u001b[0m \u001b[0mcustomer1\u001b[0m\u001b[0;34m.\u001b[0m\u001b[0misblacklisted\u001b[0m\u001b[0;34m(\u001b[0m\u001b[0;34m)\u001b[0m\u001b[0;34m)\u001b[0m\u001b[0;34m\u001b[0m\u001b[0;34m\u001b[0m\u001b[0m\n\u001b[0m\u001b[1;32m     14\u001b[0m \u001b[0;31m# print(\"Second Customer Title %s\" , customer2.getTitle())\u001b[0m\u001b[0;34m\u001b[0m\u001b[0;34m\u001b[0m\u001b[0;34m\u001b[0m\u001b[0m\n\u001b[1;32m     15\u001b[0m \u001b[0;31m# print(\"First Customer Title %s\" , customer1.getTitle())\u001b[0m\u001b[0;34m\u001b[0m\u001b[0;34m\u001b[0m\u001b[0;34m\u001b[0m\u001b[0m\n",
      "\u001b[0;31mTypeError\u001b[0m: 'int' object is not callable"
     ]
    }
   ],
   "source": [
    "customer1 = Customer()\n",
    "customer1.setTitle(\"Mr.\")\n",
    "customer1.setFname(\"Barack\")\n",
    "customer1.setLname(\"Obama\")\n",
    "customer1.setIsblacklisted(1)\n",
    "\n",
    "\n",
    "# customer2 = Customer()\n",
    "# customer2.setTitle(\"Mrs.\")\n",
    "# customer2.setFname(\"George\")\n",
    "# customer2.setLname(\"Bush\")\n",
    "#\n",
    "print(\"First Customer Title %s\" , customer1.isblacklisted())\n",
    "# print(\"Second Customer Title %s\" , customer2.getTitle())\n",
    "# print(\"First Customer Title %s\" , customer1.getTitle())"
   ]
  },
  {
   "cell_type": "code",
   "execution_count": 43,
   "metadata": {},
   "outputs": [],
   "source": [
    "customerdataframe = pd.DataFrame()"
   ]
  },
  {
   "cell_type": "code",
   "execution_count": 44,
   "metadata": {},
   "outputs": [],
   "source": [
    "customerdataframe[\"LastName\"] = last_name"
   ]
  },
  {
   "cell_type": "code",
   "execution_count": 45,
   "metadata": {},
   "outputs": [],
   "source": [
    "customerdataframe[\"Title\"] = title_col\n",
    "customerdataframe[\"FirstName\"] = first_col"
   ]
  },
  {
   "cell_type": "code",
   "execution_count": 107,
   "metadata": {},
   "outputs": [],
   "source": [
    "customerdataframe[\"BlackListed\"] = df[\"Blacklisted\"]"
   ]
  },
  {
   "cell_type": "code",
   "execution_count": 108,
   "metadata": {},
   "outputs": [],
   "source": [
    "customerdataframe = customerdataframe[['Title', 'FirstName', 'LastName', 'BlackListed']]"
   ]
  },
  {
   "cell_type": "code",
   "execution_count": 115,
   "metadata": {
    "scrolled": true
   },
   "outputs": [
    {
     "data": {
      "text/html": [
       "<div>\n",
       "<style scoped>\n",
       "    .dataframe tbody tr th:only-of-type {\n",
       "        vertical-align: middle;\n",
       "    }\n",
       "\n",
       "    .dataframe tbody tr th {\n",
       "        vertical-align: top;\n",
       "    }\n",
       "\n",
       "    .dataframe thead th {\n",
       "        text-align: right;\n",
       "    }\n",
       "</style>\n",
       "<table border=\"1\" class=\"dataframe\">\n",
       "  <thead>\n",
       "    <tr style=\"text-align: right;\">\n",
       "      <th></th>\n",
       "      <th>Title</th>\n",
       "      <th>FirstName</th>\n",
       "      <th>LastName</th>\n",
       "      <th>BlackListed</th>\n",
       "    </tr>\n",
       "  </thead>\n",
       "  <tbody>\n",
       "    <tr>\n",
       "      <td>0</td>\n",
       "      <td>Mr</td>\n",
       "      <td>Owen Harris</td>\n",
       "      <td>Braund</td>\n",
       "      <td>1</td>\n",
       "    </tr>\n",
       "    <tr>\n",
       "      <td>1</td>\n",
       "      <td>Miss</td>\n",
       "      <td>Laina</td>\n",
       "      <td>Heikkinen</td>\n",
       "      <td>0</td>\n",
       "    </tr>\n",
       "    <tr>\n",
       "      <td>2</td>\n",
       "      <td>Mr</td>\n",
       "      <td>William Henry</td>\n",
       "      <td>Allen</td>\n",
       "      <td>0</td>\n",
       "    </tr>\n",
       "    <tr>\n",
       "      <td>3</td>\n",
       "      <td>Mr</td>\n",
       "      <td>James</td>\n",
       "      <td>Moran</td>\n",
       "      <td>0</td>\n",
       "    </tr>\n",
       "    <tr>\n",
       "      <td>4</td>\n",
       "      <td>Mr</td>\n",
       "      <td>Timothy J</td>\n",
       "      <td>McCarthy</td>\n",
       "      <td>0</td>\n",
       "    </tr>\n",
       "  </tbody>\n",
       "</table>\n",
       "</div>"
      ],
      "text/plain": [
       "   Title        FirstName    LastName  BlackListed\n",
       "0     Mr     Owen Harris       Braund            1\n",
       "1   Miss           Laina    Heikkinen            0\n",
       "2     Mr   William Henry        Allen            0\n",
       "3     Mr           James        Moran            0\n",
       "4     Mr       Timothy J     McCarthy            0"
      ]
     },
     "execution_count": 115,
     "metadata": {},
     "output_type": "execute_result"
    }
   ],
   "source": [
    "customerdataframe.head()"
   ]
  },
  {
   "cell_type": "code",
   "execution_count": 99,
   "metadata": {},
   "outputs": [],
   "source": [
    "customerdataframe['BlackListed'] = customerdataframe['BlackListed'].astype(bool)\n",
    "\n",
    "# df[['COL2', 'COL4']] = df[['COL2', 'COL4']].astype(int)"
   ]
  },
  {
   "cell_type": "code",
   "execution_count": 119,
   "metadata": {},
   "outputs": [
    {
     "name": "stdout",
     "output_type": "stream",
     "text": [
      "First Customer Title %s Mr.\n"
     ]
    }
   ],
   "source": [
    "customer_obj_list = []\n",
    "for customer_obj in range(len(customerdataframe['LastName'])):\n",
    "    customer_obj = Customer()\n",
    "    customer_obj_list.append(customer_obj)\n",
    "\n",
    "\n",
    "customer_obj_list[0].setTitle(\"Mr.\")\n",
    "print(\"First Customer Title %s\" , customer_obj_list[0].getTitle())                              \n",
    "        "
   ]
  },
  {
   "cell_type": "code",
   "execution_count": 120,
   "metadata": {},
   "outputs": [],
   "source": [
    "for i in range(len(customer_obj_list)):\n",
    "    customer_obj_list[i].setTitle(customerdataframe['Title'][i])\n",
    "    customer_obj_list[i].setFname(customerdataframe['FirstName'][i])\n",
    "    customer_obj_list[i].setLname(customerdataframe['LastName'][i])\n",
    "    customer_obj_list[i].setIsblacklisted(customerdataframe['BlackListed'][i])\n"
   ]
  },
  {
   "cell_type": "code",
   "execution_count": 191,
   "metadata": {},
   "outputs": [
    {
     "name": "stdout",
     "output_type": "stream",
     "text": [
      " Mr\n",
      " Albert A \n",
      " Stewart\n"
     ]
    }
   ],
   "source": [
    "print(customer_obj_list[30].getTitle())\n",
    "print(customer_obj_list[30].getFname())\n",
    "print(customer_obj_list[30].getLname())\n",
    "print()"
   ]
  },
  {
   "cell_type": "code",
   "execution_count": 379,
   "metadata": {},
   "outputs": [],
   "source": [
    "def createOrder(customer_obj_list, title, firstName, lastName):\n",
    "    blacklisted1 = 0\n",
    "    try:\n",
    "        while True:\n",
    "            for i in range(len(customer_obj_list)):\n",
    "#               print(f\"{customer_obj_list[i].getFname()} == {firstName}\")\n",
    "                if customer_obj_list[i].getTitle().strip() == title and customer_obj_list[i].getFname().strip()== firstName and customer_obj_list[i].getLname().strip() == lastName:\n",
    "                    blacklisted1 = customer_obj_list[i].getisblacklisted()\n",
    "                    if blacklisted1 == 1:\n",
    "                        raise CustomerNotAllowedException\n",
    "                        break\n",
    "                    elif blacklisted1 == 0: \n",
    "                        raise customerAllowed\n",
    "                        break\n",
    "            raise CutomerNotFound\n",
    "            break\n",
    "            \n",
    "            \n",
    "    except CustomerNotAllowedException:\n",
    "            print(\"Cutomer is not allowed to take loan\")\n",
    "            print()\n",
    "        \n",
    "    except CutomerNotFound:\n",
    "            print(\"Customer is not found\")\n",
    "            print()\n",
    "            \n",
    "    except customerAllowed:\n",
    "            print(\"Customer is allowed to take loan\")\n",
    "            print()\n",
    "    \n",
    "    "
   ]
  },
  {
   "cell_type": "code",
   "execution_count": 382,
   "metadata": {},
   "outputs": [
    {
     "name": "stdout",
     "output_type": "stream",
     "text": [
      "Enter the customer title: Mr\n",
      "Enter the first name: Owen Harris\n",
      "Enter the last name: Braund\n",
      "\n",
      "Cutomer is not allowed to take loan\n",
      "\n"
     ]
    }
   ],
   "source": [
    "# title = 'Mr'\n",
    "# firstName = 'Owen Harris'\n",
    "# lastName = 'Braund'\n",
    "title = input(\"Enter the customer title: \")\n",
    "firstName = input(\"Enter the first name: \")\n",
    "lastName = input(\"Enter the last name: \")\n",
    "print()\n",
    "createOrder(customer_obj_list,title, firstName, lastName)"
   ]
  },
  {
   "cell_type": "code",
   "execution_count": 345,
   "metadata": {},
   "outputs": [
    {
     "name": "stdout",
     "output_type": "stream",
     "text": [
      " Miss\n",
      " Laina \n",
      " Heikkinen\n",
      "0\n"
     ]
    }
   ],
   "source": [
    "print(customer_obj_list[1].getTitle())\n",
    "print(customer_obj_list[1].getFname())\n",
    "print(customer_obj_list[1].getLname())\n",
    "print(customer_obj_list[1].getisblacklisted())"
   ]
  },
  {
   "cell_type": "markdown",
   "metadata": {},
   "source": [
    "## Exception Handeling Practice\n"
   ]
  },
  {
   "cell_type": "code",
   "execution_count": 378,
   "metadata": {},
   "outputs": [],
   "source": [
    "class Error(Exception):\n",
    "   \"\"\"Base class for other exceptions\"\"\"\n",
    "   pass\n",
    "\n",
    "\n",
    "class CutomerNotFound(Error):\n",
    "   \"\"\"Raised when the customer is not found\"\"\"\n",
    "   pass\n",
    "\n",
    "class CustomerNotAllowedException(Error):\n",
    "   \"\"\"Raised when the customer is blacklisted\"\"\"\n",
    "   pass\n",
    "\n",
    "class customerAllowed(Error):\n",
    "    \"\"\"Raised when customer is allowed to take loan\"\"\"\n",
    "    pass"
   ]
  },
  {
   "cell_type": "code",
   "execution_count": 305,
   "metadata": {},
   "outputs": [
    {
     "name": "stdout",
     "output_type": "stream",
     "text": [
      "\n"
     ]
    }
   ],
   "source": [
    "customer3 = Customer()\n",
    "\n",
    "try:\n",
    "    print(customer3.getTitle())\n",
    "except CustomerNotAllowedException:\n",
    "    print(\"This customer is not available\")"
   ]
  }
 ],
 "metadata": {
  "kernelspec": {
   "display_name": "Python 3",
   "language": "python",
   "name": "python3"
  },
  "language_info": {
   "codemirror_mode": {
    "name": "ipython",
    "version": 3
   },
   "file_extension": ".py",
   "mimetype": "text/x-python",
   "name": "python",
   "nbconvert_exporter": "python",
   "pygments_lexer": "ipython3",
   "version": "3.7.4"
  }
 },
 "nbformat": 4,
 "nbformat_minor": 2
}
